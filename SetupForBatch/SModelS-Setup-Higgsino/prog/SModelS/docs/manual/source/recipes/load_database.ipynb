{
 "cells": [
  {
   "cell_type": "markdown",
   "metadata": {},
   "source": [
    "# How To: Load the database, selecting only a few results."
   ]
  },
  {
   "cell_type": "code",
   "execution_count": 1,
   "metadata": {
    "collapsed": false
   },
   "outputs": [],
   "source": [
    "#Set up the path to SModelS installation folder if running on a different folder\n",
    "import sys,os\n",
    "sys.path.append(os.path.join(os.getenv(\"HOME\"),\"smodels/\"))"
   ]
  },
  {
   "cell_type": "code",
   "execution_count": 2,
   "metadata": {
    "collapsed": false
   },
   "outputs": [],
   "source": [
    "from smodels.experiment.databaseObj import Database\n",
    "from smodels.tools.physicsUnits import GeV"
   ]
  },
  {
   "cell_type": "code",
   "execution_count": 3,
   "metadata": {
    "collapsed": false
   },
   "outputs": [],
   "source": [
    "## Load the database:\n",
    "dbPath = os.path.join(os.getenv(\"HOME\"),\"smodels-database/\")\n",
    "database = Database(dbPath)"
   ]
  },
  {
   "cell_type": "markdown",
   "metadata": {},
   "source": [
    "## How to select results from one publication (or conference note)"
   ]
  },
  {
   "cell_type": "code",
   "execution_count": 6,
   "metadata": {
    "collapsed": false
   },
   "outputs": [],
   "source": [
    "#Select only the CMS SUS-12-028 conference note\n",
    "expID=[\"CMS-SUS-12-028\"]"
   ]
  },
  {
   "cell_type": "code",
   "execution_count": 7,
   "metadata": {
    "collapsed": false
   },
   "outputs": [],
   "source": [
    "#Loads the selected analyses\n",
    "#(The INFO tells you that superseded analyses are not loaded, see below)\n",
    "results = database.getExpResults(analysisIDs=expID)"
   ]
  },
  {
   "cell_type": "code",
   "execution_count": 9,
   "metadata": {
    "collapsed": false
   },
   "outputs": [
    {
     "name": "stdout",
     "output_type": "stream",
     "text": [
      "CMS-SUS-12-028::T1,T1bbbb,T1tttt,T2,T2bb\n",
      "T1 = [[[jet,jet]],[[jet,jet]]]\n",
      "T1bbbb = [[[b,b]],[[b,b]]]\n",
      "T1tttt = [[[t,t]],[[t,t]]]\n",
      "T2 = [[[jet]],[[jet]]]\n",
      "T2bb = [[[b]],[[b]]]\n"
     ]
    }
   ],
   "source": [
    "#Print all the results selected:\n",
    "for exp in results:\n",
    "    print exp\n",
    "#Print the txnames constrained by the result in bracket notation:\n",
    "exp = results[0]\n",
    "for tx in exp.getTxNames():\n",
    "    print tx,'=',tx.constraint"
   ]
  },
  {
   "cell_type": "code",
   "execution_count": 10,
   "metadata": {
    "collapsed": false
   },
   "outputs": [
    {
     "name": "stdout",
     "output_type": "stream",
     "text": [
      "['comment', 'sqrts', 'private', 'txnameDataExp', 'validated', 'id', 'implementedBy', 'publication', 'axes', 'supersedes', 'lastUpdate', 'figureUrl', 'publishedData', 'dataUrl', 'conditionDescription', 'dataType', 'txName', 'txnameData', 'lumi', 'path', 'condition', 'dataId', 'constraint', 'url', 'arxiv', 'contact', 'prettyName']\n"
     ]
    }
   ],
   "source": [
    "#Print ALL info fields available:\n",
    "exp = results[0]\n",
    "print exp.getAttributes()"
   ]
  },
  {
   "cell_type": "code",
   "execution_count": 11,
   "metadata": {
    "collapsed": false
   },
   "outputs": [
    {
     "name": "stdout",
     "output_type": "stream",
     "text": [
      "sqrts= [8.00E+00 [TeV]]\n",
      "lumi= [1.17E+01 [1/fb]]\n",
      "dataType= ['upperLimit']\n",
      "txnames= ['T1bbbb', 'T2', 'T2bb', 'T1tttt', 'T1']\n"
     ]
    }
   ],
   "source": [
    "#Print values for some of the info fields (always returned as a list):\n",
    "print 'sqrts=',exp.getValuesFor('sqrts')\n",
    "print 'lumi=',exp.getValuesFor('lumi')\n",
    "print 'dataType=',exp.getValuesFor('dataType')\n",
    "print 'txnames=',exp.getValuesFor('txName')"
   ]
  },
  {
   "cell_type": "code",
   "execution_count": 12,
   "metadata": {
    "collapsed": false
   },
   "outputs": [
    {
     "name": "stdout",
     "output_type": "stream",
     "text": [
      "xsection upper limit =  2.11E+00 [pb]\n"
     ]
    }
   ],
   "source": [
    "#To obtain the upper limit for a given mass vector and a given simplified model (txname)\n",
    "#Note that the number of masses in the mass vector must be consitent with the txname.\n",
    "#For the T1 txname, for instance:\n",
    "massesT1 = [[300*GeV,100*GeV],[300*GeV,100*GeV]]\n",
    "print 'xsection upper limit = ',exp.getUpperLimitFor(mass=massesT1,txname='T1')"
   ]
  },
  {
   "cell_type": "code",
   "execution_count": 13,
   "metadata": {
    "collapsed": false
   },
   "outputs": [
    {
     "name": "stdout",
     "output_type": "stream",
     "text": [
      "xsection upper limit =  1.07E+00 [pb]\n"
     ]
    }
   ],
   "source": [
    "#For the T2 analysis:\n",
    "massesT2 = [[300*GeV,50*GeV],[300*GeV,50*GeV]]\n",
    "print 'xsection upper limit = ',exp.getUpperLimitFor(mass=massesT2,txname='T2')"
   ]
  },
  {
   "cell_type": "code",
   "execution_count": 14,
   "metadata": {
    "collapsed": false
   },
   "outputs": [
    {
     "name": "stderr",
     "output_type": "stream",
     "text": [
      "ERROR in txnameObj.getValueFor() in 292: dimensional error. I have been asked to compare a 3-dimensional mass vector with 4-dimensional _data!\n"
     ]
    },
    {
     "name": "stdout",
     "output_type": "stream",
     "text": [
      "xsection upper limit =  None\n"
     ]
    }
   ],
   "source": [
    "#If you try with the wrong mass format, an error will be printed:\n",
    "masses = [[300*GeV],[300*GeV,50*GeV]]\n",
    "print 'xsection upper limit = ',exp.getUpperLimitFor(mass=masses,txname='T2')"
   ]
  },
  {
   "cell_type": "markdown",
   "metadata": {},
   "source": [
    "## How to load results for one simplified model (txname)"
   ]
  },
  {
   "cell_type": "code",
   "execution_count": 15,
   "metadata": {
    "collapsed": false
   },
   "outputs": [],
   "source": [
    "#It is also possible to load all the results for a single simplified (using the Txname convention)\n",
    "Txnames = [\"T1\"]\n",
    "T1results = database.getExpResults(txnames=Txnames)"
   ]
  },
  {
   "cell_type": "code",
   "execution_count": 16,
   "metadata": {
    "collapsed": false
   },
   "outputs": [
    {
     "name": "stdout",
     "output_type": "stream",
     "text": [
      "CMS-SUS-PAS-15-002\n",
      "ATLAS-CONF-2013-024\n",
      "ATLAS-CONF-2013-035\n",
      "ATLAS-CONF-2013-037\n",
      "ATLAS-CONF-2013-047\n",
      "ATLAS-CONF-2013-048\n",
      "ATLAS-CONF-2013-049\n",
      "ATLAS-CONF-2013-053\n",
      "ATLAS-CONF-2013-054\n",
      "ATLAS-CONF-2013-061\n",
      "ATLAS-CONF-2013-062\n",
      "ATLAS-CONF-2013-093\n",
      "ATLAS-SUSY-2013-02\n",
      "ATLAS-SUSY-2013-02\n",
      "CMS-SUS-12-028\n",
      "CMS-SUS-13-012\n",
      "CMS-SUS-13-012\n",
      "CMS-SUS-13-019\n"
     ]
    }
   ],
   "source": [
    "#Print all the results constraining the required Txname:\n",
    "for exp in T1results:\n",
    "    print exp.globalInfo.id #(or print exp.getValuesFor('id'))"
   ]
  },
  {
   "cell_type": "markdown",
   "metadata": {},
   "source": [
    "## How to load all experimental results, including the superseded publications"
   ]
  },
  {
   "cell_type": "code",
   "execution_count": 17,
   "metadata": {
    "collapsed": false
   },
   "outputs": [
    {
     "name": "stdout",
     "output_type": "stream",
     "text": [
      "Number of non-superseded results =  64\n"
     ]
    }
   ],
   "source": [
    "#By default only non-supersed analyses are loaded:\n",
    "results = database.getExpResults()\n",
    "print 'Number of non-superseded results = ',len(results)"
   ]
  },
  {
   "cell_type": "code",
   "execution_count": 18,
   "metadata": {
    "collapsed": false
   },
   "outputs": [
    {
     "name": "stdout",
     "output_type": "stream",
     "text": [
      "Including superseded results = 79\n"
     ]
    }
   ],
   "source": [
    "#To load all results (including the superseded ones), set useSuperseded=True\n",
    "allResults = database.getExpResults(useSuperseded=True)\n",
    "print 'Including superseded results =',len(allResults)"
   ]
  },
  {
   "cell_type": "markdown",
   "metadata": {},
   "source": [
    "## How to selected upper-limit and efficiency map results:"
   ]
  },
  {
   "cell_type": "code",
   "execution_count": 19,
   "metadata": {
    "collapsed": false
   },
   "outputs": [
    {
     "name": "stdout",
     "output_type": "stream",
     "text": [
      "ATLAS-SUSY-2015-09 ['upperLimit']\n",
      "CMS-SUS-PAS-15-002 ['upperLimit']\n",
      "ATLAS-CONF-2013-024 ['upperLimit']\n",
      "ATLAS-CONF-2013-089 ['upperLimit']\n",
      "ATLAS-CONF-2013-093 ['upperLimit']\n",
      "ATLAS-SUSY-2013-02 ['upperLimit']\n",
      "ATLAS-SUSY-2013-04 ['upperLimit']\n",
      "ATLAS-SUSY-2013-05 ['upperLimit']\n",
      "ATLAS-SUSY-2013-08 ['upperLimit']\n",
      "ATLAS-SUSY-2013-09 ['upperLimit']\n",
      "ATLAS-SUSY-2013-11 ['upperLimit']\n",
      "ATLAS-SUSY-2013-12 ['upperLimit']\n",
      "ATLAS-SUSY-2013-15 ['upperLimit']\n",
      "ATLAS-SUSY-2013-16 ['upperLimit']\n",
      "ATLAS-SUSY-2013-18 ['upperLimit']\n",
      "ATLAS-SUSY-2013-19 ['upperLimit']\n",
      "ATLAS-SUSY-2013-23 ['upperLimit']\n",
      "CMS-PAS-SUS-13-015 ['upperLimit']\n",
      "CMS-PAS-SUS-13-016 ['upperLimit']\n",
      "CMS-PAS-SUS-13-018 ['upperLimit']\n",
      "CMS-PAS-SUS-13-023 ['upperLimit']\n",
      "CMS-PAS-SUS-14-011 ['upperLimit']\n",
      "CMS-SUS-12-024 ['upperLimit']\n",
      "CMS-SUS-12-028 ['upperLimit']\n",
      "CMS-SUS-13-002 ['upperLimit']\n",
      "CMS-SUS-13-004 ['upperLimit']\n",
      "CMS-SUS-13-006 ['upperLimit']\n",
      "CMS-SUS-13-007 ['upperLimit']\n",
      "CMS-SUS-13-011 ['upperLimit']\n",
      "CMS-SUS-13-012 ['upperLimit']\n",
      "CMS-SUS-13-013 ['upperLimit']\n",
      "CMS-SUS-13-019 ['upperLimit']\n",
      "CMS-SUS-14-010 ['upperLimit']\n",
      "CMS-SUS-14-021 ['upperLimit']\n"
     ]
    }
   ],
   "source": [
    "#Get only upper-limit results:\n",
    "ULresults =  database.getExpResults(dataTypes=['upperLimit'])\n",
    "for exp in ULresults:\n",
    "    print exp.globalInfo.id,exp.getValuesFor('dataType')"
   ]
  },
  {
   "cell_type": "code",
   "execution_count": 20,
   "metadata": {
    "collapsed": false
   },
   "outputs": [
    {
     "name": "stdout",
     "output_type": "stream",
     "text": [
      "ATLAS-CONF-2013-024 ['efficiencyMap']\n",
      "ATLAS-CONF-2013-035 ['efficiencyMap']\n",
      "ATLAS-CONF-2013-037 ['efficiencyMap']\n",
      "ATLAS-CONF-2013-047 ['efficiencyMap']\n",
      "ATLAS-CONF-2013-048 ['efficiencyMap']\n",
      "ATLAS-CONF-2013-049 ['efficiencyMap']\n",
      "ATLAS-CONF-2013-053 ['efficiencyMap']\n",
      "ATLAS-CONF-2013-054 ['efficiencyMap']\n",
      "ATLAS-CONF-2013-061 ['efficiencyMap']\n",
      "ATLAS-CONF-2013-062 ['efficiencyMap']\n",
      "ATLAS-CONF-2013-093 ['efficiencyMap']\n",
      "ATLAS-SUSY-2013-02 ['efficiencyMap']\n",
      "ATLAS-SUSY-2013-04 ['efficiencyMap']\n",
      "ATLAS-SUSY-2013-05 ['efficiencyMap']\n",
      "ATLAS-SUSY-2013-09 ['efficiencyMap']\n",
      "ATLAS-SUSY-2013-11 ['efficiencyMap']\n",
      "ATLAS-SUSY-2013-15 ['efficiencyMap']\n",
      "ATLAS-SUSY-2013-16 ['efficiencyMap']\n",
      "ATLAS-SUSY-2013-18 ['efficiencyMap']\n",
      "ATLAS-SUSY-2013-21 ['efficiencyMap']\n",
      "ATLAS-SUSY-2014-03 ['efficiencyMap']\n",
      "CMS-PAS-SUS-13-015 ['efficiencyMap']\n",
      "CMS-PAS-SUS-13-016 ['efficiencyMap']\n",
      "CMS-SUS-12-024 ['efficiencyMap']\n",
      "CMS-SUS-13-006 ['efficiencyMap']\n",
      "CMS-SUS-13-007 ['efficiencyMap']\n",
      "CMS-SUS-13-011 ['efficiencyMap']\n",
      "CMS-SUS-13-012 ['efficiencyMap']\n",
      "CMS-SUS-13-013 ['efficiencyMap']\n",
      "CMS-SUS-14-021 ['efficiencyMap']\n"
     ]
    }
   ],
   "source": [
    "#Get only efficiency map results:\n",
    "EMresults =  database.getExpResults(dataTypes=['efficiencyMap'])\n",
    "for exp in EMresults:\n",
    "    print exp.globalInfo.id,exp.getValuesFor('dataType')"
   ]
  },
  {
   "cell_type": "code",
   "execution_count": null,
   "metadata": {
    "collapsed": true
   },
   "outputs": [],
   "source": []
  }
 ],
 "metadata": {
  "kernelspec": {
   "display_name": "Python 2",
   "language": "python",
   "name": "python2"
  },
  "language_info": {
   "codemirror_mode": {
    "name": "ipython",
    "version": 2
   },
   "file_extension": ".py",
   "mimetype": "text/x-python",
   "name": "python",
   "nbconvert_exporter": "python",
   "pygments_lexer": "ipython2",
   "version": "2.7.12"
  }
 },
 "nbformat": 4,
 "nbformat_minor": 0
}
