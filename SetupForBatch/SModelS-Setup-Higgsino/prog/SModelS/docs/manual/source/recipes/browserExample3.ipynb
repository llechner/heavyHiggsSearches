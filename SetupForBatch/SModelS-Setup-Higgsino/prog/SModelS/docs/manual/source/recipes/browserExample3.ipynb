{
 "metadata": {
  "name": ""
 },
 "nbformat": 3,
 "nbformat_minor": 0,
 "worksheets": [
  {
   "cells": [
    {
     "cell_type": "heading",
     "level": 3,
     "metadata": {},
     "source": [
      "Load the browser"
     ]
    },
    {
     "cell_type": "code",
     "collapsed": false,
     "input": [
      "#Make sure smodels can be found\n",
      "import sys,os\n",
      "sys.path.append(os.path.join(os.getenv(\"HOME\"),'smodels'))\n",
      "from smodels.tools import databaseBrowser\n",
      "#First load the browser and check the total number of results loaded\n",
      "browser = databaseBrowser.Browser(os.path.join(os.getenv(\"HOME\"),'smodels-database'))\n",
      "print len(browser)"
     ],
     "language": "python",
     "metadata": {},
     "outputs": [
      {
       "output_type": "stream",
       "stream": "stdout",
       "text": [
        "41\n"
       ]
      }
     ],
     "prompt_number": 1
    },
    {
     "cell_type": "heading",
     "level": 3,
     "metadata": {},
     "source": [
      "Select only efficiency map results:"
     ]
    },
    {
     "cell_type": "code",
     "collapsed": false,
     "input": [
      "#Select only efficiency map results:\n",
      "browser.selectExpResultsWith(dataType ='efficiencyMap')\n",
      "#List the name of results loaded:\n",
      "print len(browser)"
     ],
     "language": "python",
     "metadata": {},
     "outputs": [
      {
       "output_type": "stream",
       "stream": "stdout",
       "text": [
        "8\n"
       ]
      }
     ],
     "prompt_number": 2
    },
    {
     "cell_type": "code",
     "collapsed": false,
     "input": [
      "#Now check the first result:\n",
      "print browser[0]"
     ],
     "language": "python",
     "metadata": {},
     "outputs": [
      {
       "output_type": "stream",
       "stream": "stdout",
       "text": [
        "ATLAS-CONF-2013-053: ANA10-CUT0,ANA10-CUT1,ANA10-CUT2,ANA10-CUT3,ANA10-CUT4,ANA10-CUT5,ANA6-CUT0,ANA6-CUT1,ANA6-CUT2,ANA6-CUT3,ANA6-CUT4,ANA6-CUT5,ANA8-CUT4,ANA8-CUT5,ANA8-CUT2,ANA8-CUT3,ANA8-CUT0,ANA8-CUT1,ANA7-CUT5,ANA7-CUT4,ANA7-CUT3,ANA7-CUT2,ANA7-CUT1,ANA7-CUT0,ANA9-CUT5,ANA9-CUT4,ANA9-CUT1,ANA9-CUT0,ANA9-CUT3,ANA9-CUT2:TGQbtq,TGQbbq,TGQ,TGQqtt,T2bt,T1btbt,T1tttt,T2,T1,T1qqtt,T1btqq,T1bbbb,T2tt,T1bbtt,T1bttt,T1bbbt,T2bb,T1bbqq\n"
       ]
      }
     ],
     "prompt_number": 3
    },
    {
     "cell_type": "code",
     "collapsed": false,
     "input": [
      "#Now restore all results to the browser:\n",
      "browser.loadAllResults()\n",
      "print len(browser)"
     ],
     "language": "python",
     "metadata": {},
     "outputs": [
      {
       "output_type": "stream",
       "stream": "stdout",
       "text": [
        "41\n"
       ]
      }
     ],
     "prompt_number": 4
    },
    {
     "cell_type": "heading",
     "level": 3,
     "metadata": {},
     "source": [
      "Select only upper limit results:"
     ]
    },
    {
     "cell_type": "code",
     "collapsed": false,
     "input": [
      "#Select only efficiency map results:\n",
      "browser.selectExpResultsWith(dataType='upperLimit')\n",
      "#List the name of results loaded:\n",
      "print len(browser)"
     ],
     "language": "python",
     "metadata": {},
     "outputs": [
      {
       "output_type": "stream",
       "stream": "stdout",
       "text": [
        "33\n"
       ]
      }
     ],
     "prompt_number": 5
    },
    {
     "cell_type": "code",
     "collapsed": false,
     "input": [
      "#Now check the first result:\n",
      "print browser[0]"
     ],
     "language": "python",
     "metadata": {},
     "outputs": [
      {
       "output_type": "stream",
       "stream": "stdout",
       "text": [
        "ATLAS-CONF-2013-048::T2bbWW,T6bbWWoff,T6bbWW\n"
       ]
      }
     ],
     "prompt_number": 6
    },
    {
     "cell_type": "code",
     "collapsed": false,
     "input": [],
     "language": "python",
     "metadata": {},
     "outputs": [],
     "prompt_number": 6
    }
   ],
   "metadata": {}
  }
 ]
}