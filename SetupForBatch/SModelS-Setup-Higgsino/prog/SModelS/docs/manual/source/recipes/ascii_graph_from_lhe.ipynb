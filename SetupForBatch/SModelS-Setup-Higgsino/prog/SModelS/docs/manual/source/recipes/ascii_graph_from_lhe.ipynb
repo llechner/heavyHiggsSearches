{
 "cells": [
  {
   "cell_type": "markdown",
   "metadata": {},
   "source": [
    "# How To: Create ASCII graphs for elements in a LHE event file"
   ]
  },
  {
   "cell_type": "code",
   "execution_count": 1,
   "metadata": {
    "collapsed": false
   },
   "outputs": [],
   "source": [
    "#Set up the path to SModelS installation folder if running on a different folder\n",
    "import sys,os\n",
    "sys.path.append(os.path.join(os.getenv(\"HOME\"),\"smodels/\"))"
   ]
  },
  {
   "cell_type": "code",
   "execution_count": 2,
   "metadata": {
    "collapsed": false
   },
   "outputs": [],
   "source": [
    "#Import those parts of smodels that are needed for this exercise\n",
    "from smodels.theory import lheReader, lheDecomposer, crossSection\n",
    "from smodels.installation import installDirectory\n",
    "from smodels.tools import asciiGraph"
   ]
  },
  {
   "cell_type": "code",
   "execution_count": 3,
   "metadata": {
    "collapsed": false
   },
   "outputs": [],
   "source": [
    "#Load an input file containing LHE events and start the LHE reader\n",
    "filename=\"%s/inputFiles/lhe/gluino_squarks.lhe\" % installDirectory()\n",
    "reader = lheReader.LheReader ( filename )"
   ]
  },
  {
   "cell_type": "code",
   "execution_count": 4,
   "metadata": {
    "collapsed": false
   },
   "outputs": [],
   "source": [
    "#Read the next event and generate the corresponding element\n",
    "event=reader.next()\n",
    "element=lheDecomposer.elementFromEvent (event)"
   ]
  },
  {
   "cell_type": "code",
   "execution_count": 5,
   "metadata": {
    "collapsed": false
   },
   "outputs": [
    {
     "name": "stdout",
     "output_type": "stream",
     "text": [
      "    W-  \n",
      "    |   \n",
      "----*----\n",
      "----*----\n",
      "    |   \n",
      "    W+  \n",
      "\n"
     ]
    }
   ],
   "source": [
    "#Print the corresponding ASCII graph\n",
    "print asciiGraph.asciidraw ( element )"
   ]
  },
  {
   "cell_type": "code",
   "execution_count": 6,
   "metadata": {
    "collapsed": false
   },
   "outputs": [
    {
     "name": "stdout",
     "output_type": "stream",
     "text": [
      "    hi  \n",
      "    |   \n",
      "----*----\n",
      "----*----\n",
      "    |   \n",
      "    W+  \n",
      "\n"
     ]
    }
   ],
   "source": [
    "#Do the same for the next event:\n",
    "event=reader.next()\n",
    "element=lheDecomposer.elementFromEvent ( event )\n",
    "print asciiGraph.asciidraw ( element )"
   ]
  },
  {
   "cell_type": "code",
   "execution_count": null,
   "metadata": {
    "collapsed": true
   },
   "outputs": [],
   "source": []
  }
 ],
 "metadata": {
  "kernelspec": {
   "display_name": "Python 2",
   "language": "python",
   "name": "python2"
  },
  "language_info": {
   "codemirror_mode": {
    "name": "ipython",
    "version": 2
   },
   "file_extension": ".py",
   "mimetype": "text/x-python",
   "name": "python",
   "nbconvert_exporter": "python",
   "pygments_lexer": "ipython2",
   "version": "2.7.12"
  }
 },
 "nbformat": 4,
 "nbformat_minor": 0
}
