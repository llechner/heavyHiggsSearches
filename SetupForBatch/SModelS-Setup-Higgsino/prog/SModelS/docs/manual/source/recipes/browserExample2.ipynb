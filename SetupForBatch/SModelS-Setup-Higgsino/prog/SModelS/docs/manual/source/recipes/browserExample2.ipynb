{
 "metadata": {
  "name": ""
 },
 "nbformat": 3,
 "nbformat_minor": 0,
 "worksheets": [
  {
   "cells": [
    {
     "cell_type": "heading",
     "level": 3,
     "metadata": {},
     "source": [
      "Load the browser"
     ]
    },
    {
     "cell_type": "code",
     "collapsed": false,
     "input": [
      "#Make sure smodels can be found\n",
      "import sys,os\n",
      "sys.path.append(os.path.join(os.getenv(\"HOME\"),'smodels'))\n",
      "from smodels.tools.physicsUnits import GeV\n",
      "from smodels.tools import databaseBrowser\n",
      "#First load the browser and check the total number of results loaded\n",
      "browser = databaseBrowser.Browser(os.path.join(os.getenv(\"HOME\"),'smodels-database'))\n",
      "print len(browser)"
     ],
     "language": "python",
     "metadata": {},
     "outputs": [
      {
       "output_type": "stream",
       "stream": "stdout",
       "text": [
        "44\n"
       ]
      }
     ],
     "prompt_number": 1
    },
    {
     "cell_type": "heading",
     "level": 3,
     "metadata": {},
     "source": [
      "Check the upper limit of a efficiency map result (95% C.L. limit for a given signal region)"
     ]
    },
    {
     "cell_type": "code",
     "collapsed": false,
     "input": [
      "#Check the upper limit for the ANA10-CUT1 signal region:\n",
      "print browser.getULForSR(expid='ATLAS-CONF-2013-053', datasetID='ANA10-CUT1')\n",
      "#Check the upper limit for the ANA6-CUT5 signal region:\n",
      "print browser.getULForSR(expid='ATLAS-CONF-2013-053', datasetID='ANA6-CUT5')"
     ],
     "language": "python",
     "metadata": {},
     "outputs": [
      {
       "output_type": "stream",
       "stream": "stdout",
       "text": [
        "1.30E+00 [fb]\n",
        "1.35E+00 [fb]"
       ]
      },
      {
       "output_type": "stream",
       "stream": "stdout",
       "text": [
        "\n"
       ]
      }
     ],
     "prompt_number": 2
    },
    {
     "cell_type": "heading",
     "level": 3,
     "metadata": {},
     "source": [
      "Check the upper limit for a upper limit result (95% C.L. limit for a given simplified model/txname and mass) "
     ]
    },
    {
     "cell_type": "code",
     "collapsed": false,
     "input": [
      "#Check the upper limit for T2bb simplified model with sbottom mass 300 GeV and LSP mass 100 GeV:\n",
      "print browser.getULFor(expid='ATLAS-CONF-2013-053', txname='T2bb', massarray = [[300.*GeV,100.*GeV],[300.*GeV,100.*GeV]])"
     ],
     "language": "python",
     "metadata": {},
     "outputs": [
      {
       "output_type": "stream",
       "stream": "stdout",
       "text": [
        "1.70E-01 [pb]\n"
       ]
      }
     ],
     "prompt_number": 3
    },
    {
     "cell_type": "code",
     "collapsed": false,
     "input": [
      "#Check the upper limit for T2bb simplified model with sbottom mass 400 GeV and LSP mass 150 GeV:\n",
      "print browser.getULFor(expid='ATLAS-CONF-2013-053', txname='T2bb', massarray = [[400.*GeV,150.*GeV],[400.*GeV,150.*GeV]])"
     ],
     "language": "python",
     "metadata": {},
     "outputs": [
      {
       "output_type": "stream",
       "stream": "stdout",
       "text": [
        "8.00E-02 [pb]\n"
       ]
      }
     ],
     "prompt_number": 4
    },
    {
     "cell_type": "code",
     "collapsed": false,
     "input": [
      "#No results will be given if masses outside the data grid are uses:\n",
      "print browser.getULFor(expid='ATLAS-CONF-2013-053', txname='T2bb', massarray = [[4000.*GeV,150.*GeV],[4000.*GeV,150.*GeV]])"
     ],
     "language": "python",
     "metadata": {},
     "outputs": [
      {
       "output_type": "stream",
       "stream": "stdout",
       "text": [
        "17:56:56.501 INFO     smodels.experiment.txnameObject:322 projected value is None. Projected point not in convex hull? original point=[[4.00E+03 [GeV], 1.50E+02 [GeV]], [4.00E+03 [GeV], 1.50E+02 [GeV]]]\n"
       ]
      },
      {
       "output_type": "stream",
       "stream": "stdout",
       "text": [
        "None\n"
       ]
      }
     ],
     "prompt_number": 5
    },
    {
     "cell_type": "code",
     "collapsed": false,
     "input": [],
     "language": "python",
     "metadata": {},
     "outputs": []
    }
   ],
   "metadata": {}
  }
 ]
}