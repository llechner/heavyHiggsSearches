{
 "cells": [
  {
   "cell_type": "markdown",
   "metadata": {},
   "source": [
    "# How To: Print out the theoretical decomposition"
   ]
  },
  {
   "cell_type": "code",
   "execution_count": 1,
   "metadata": {
    "collapsed": false
   },
   "outputs": [],
   "source": [
    "#Set up the path to SModelS installation folder if running on a different folder\n",
    "import sys,os\n",
    "sys.path.append(os.path.join(os.getenv(\"HOME\"),\"smodels/\"))"
   ]
  },
  {
   "cell_type": "code",
   "execution_count": 2,
   "metadata": {
    "collapsed": false
   },
   "outputs": [],
   "source": [
    "#Import those parts of smodels that are needed for this exercise\n",
    "#(We will assume the input is a SLHA file. For LHE files, use the lheDecomposer instead)\n",
    "from smodels.theory import slhaDecomposer\n",
    "from smodels.installation import installDirectory\n",
    "from smodels.tools.physicsUnits import fb, GeV"
   ]
  },
  {
   "cell_type": "code",
   "execution_count": 3,
   "metadata": {
    "collapsed": false
   },
   "outputs": [],
   "source": [
    "#Define the SLHA file name\n",
    "filename=\"%s/inputFiles/slha/gluino_squarks.slha\" % installDirectory()"
   ]
  },
  {
   "cell_type": "code",
   "execution_count": 4,
   "metadata": {
    "collapsed": false
   },
   "outputs": [],
   "source": [
    "#Perform the decomposition:\n",
    "listOfTopologies = slhaDecomposer.decompose(filename, sigcut = 0.5 * fb, \n",
    "                                            doCompress=True, doInvisible=True,minmassgap = 5* GeV)"
   ]
  },
  {
   "cell_type": "code",
   "execution_count": 6,
   "metadata": {
    "collapsed": false
   },
   "outputs": [
    {
     "name": "stdout",
     "output_type": "stream",
     "text": [
      "number of vertices: [0, 1], number of vertex particles: [[], [1]], number of elements: 1\n",
      "number of vertices: [1, 1], number of vertex particles: [[1], [1]], number of elements: 7\n",
      "number of vertices: [1, 1], number of vertex particles: [[1], [2]], number of elements: 2\n",
      "number of vertices: [1, 2], number of vertex particles: [[1], [1, 1]], number of elements: 7\n",
      "number of vertices: [1, 2], number of vertex particles: [[1], [2, 1]], number of elements: 10\n",
      "number of vertices: [1, 2], number of vertex particles: [[2], [1, 1]], number of elements: 4\n",
      "number of vertices: [2, 2], number of vertex particles: [[1, 1], [1, 1]], number of elements: 7\n",
      "number of vertices: [2, 2], number of vertex particles: [[1, 1], [2, 1]], number of elements: 25\n",
      "number of vertices: [2, 2], number of vertex particles: [[2, 1], [2, 1]], number of elements: 21\n"
     ]
    }
   ],
   "source": [
    "#Print a summary of all the topologies generated:\n",
    "for top in listOfTopologies:\n",
    "    print top.describe()"
   ]
  },
  {
   "cell_type": "code",
   "execution_count": 7,
   "metadata": {
    "collapsed": false
   },
   "outputs": [
    {
     "name": "stdout",
     "output_type": "stream",
     "text": [
      "Number of vertices =  [1, 2]\n",
      "Number of final states =  [[1], [1, 1]]\n",
      "Number of elements =  7\n"
     ]
    }
   ],
   "source": [
    "#To print specific information about othe i-th topology:\n",
    "i = 3\n",
    "top = listOfTopologies[i]\n",
    "print \"Number of vertices = \",top.vertnumb\n",
    "print \"Number of final states = \",top.vertparts\n",
    "print \"Number of elements = \",len(top.elementList)"
   ]
  },
  {
   "cell_type": "code",
   "execution_count": 11,
   "metadata": {
    "collapsed": false
   },
   "outputs": [
    {
     "name": "stdout",
     "output_type": "stream",
     "text": [
      "Element 0 : [[['W+']], [['q'], ['W-']]]\n",
      "masses= [[2.69E+02 [GeV], 1.29E+02 [GeV]], [9.94E+02 [GeV], 2.69E+02 [GeV], 1.29E+02 [GeV]]]\n",
      "weight= ['8.00E+00 [TeV]:1.67E-03 [pb]'] \n",
      "\n",
      "Element 1 : [[['W+']], [['q'], ['higgs']]]\n",
      "masses= [[2.69E+02 [GeV], 1.29E+02 [GeV]], [9.94E+02 [GeV], 2.69E+02 [GeV], 1.29E+02 [GeV]]]\n",
      "weight= ['8.00E+00 [TeV]:7.06E-04 [pb]'] \n",
      "\n",
      "Element 2 : [[['W-']], [['q'], ['W+']]]\n",
      "masses= [[2.69E+02 [GeV], 1.29E+02 [GeV]], [9.92E+02 [GeV], 2.69E+02 [GeV], 1.29E+02 [GeV]]]\n",
      "weight= ['8.00E+00 [TeV]:7.71E-04 [pb]'] \n",
      "\n",
      "Element 3 : [[['higgs']], [['q'], ['W+']]]\n",
      "masses= [[2.69E+02 [GeV], 1.29E+02 [GeV]], [9.92E+02 [GeV], 2.69E+02 [GeV], 1.29E+02 [GeV]]]\n",
      "weight= ['8.00E+00 [TeV]:8.27E-04 [pb]'] \n",
      "\n",
      "Element 4 : [[['q']], [['q'], ['W+']]]\n",
      "masses= [[9.91E+02 [GeV], 1.29E+02 [GeV]], [9.92E+02 [GeV], 2.69E+02 [GeV], 1.29E+02 [GeV]]]\n",
      "weight= ['8.00E+00 [TeV]:1.51E-03 [pb]'] \n",
      "\n",
      "Element 5 : [[['q']], [['q'], ['W-']]]\n",
      "masses= [[9.91E+02 [GeV], 1.29E+02 [GeV]], [9.94E+02 [GeV], 2.69E+02 [GeV], 1.29E+02 [GeV]]]\n",
      "weight= ['8.00E+00 [TeV]:6.06E-04 [pb]'] \n",
      "\n",
      "Element 6 : [[['q']], [['q'], ['higgs']]]\n",
      "masses= [[9.91E+02 [GeV], 1.29E+02 [GeV]], [9.92E+02 [GeV], 2.69E+02 [GeV], 1.29E+02 [GeV]]]\n",
      "weight= ['8.00E+00 [TeV]:6.28E-04 [pb]'] \n",
      "\n"
     ]
    }
   ],
   "source": [
    "#We can also print information for each element in the topology:\n",
    "for iel,element in enumerate(top.elementList):\n",
    "    print 'Element',iel,':',element.getParticles()\n",
    "    print 'masses=',element.getMasses()\n",
    "    print 'weight=',element.weight,'\\n'"
   ]
  }
 ],
 "metadata": {
  "kernelspec": {
   "display_name": "Python 2",
   "language": "python",
   "name": "python2"
  },
  "language_info": {
   "codemirror_mode": {
    "name": "ipython",
    "version": 2
   },
   "file_extension": ".py",
   "mimetype": "text/x-python",
   "name": "python",
   "nbconvert_exporter": "python",
   "pygments_lexer": "ipython2",
   "version": "2.7.12"
  }
 },
 "nbformat": 4,
 "nbformat_minor": 0
}
