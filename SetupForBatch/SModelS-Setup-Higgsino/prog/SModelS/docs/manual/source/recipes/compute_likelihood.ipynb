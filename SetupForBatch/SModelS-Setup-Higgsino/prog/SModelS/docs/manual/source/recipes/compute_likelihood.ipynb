{
 "cells": [
  {
   "cell_type": "markdown",
   "metadata": {},
   "source": [
    "# How To: Compute likelihood and chi2"
   ]
  },
  {
   "cell_type": "code",
   "execution_count": 1,
   "metadata": {
    "collapsed": false
   },
   "outputs": [],
   "source": [
    "#Set up the path to SModelS installation folder if running on a different folder\n",
    "import sys,os\n",
    "sys.path.append(os.path.join(os.getenv(\"HOME\"),\"smodels/\"))"
   ]
  },
  {
   "cell_type": "code",
   "execution_count": 2,
   "metadata": {
    "collapsed": true
   },
   "outputs": [],
   "source": [
    "from smodels.tools.statistics import likelihood,chi2"
   ]
  },
  {
   "cell_type": "markdown",
   "metadata": {},
   "source": [
    "## How to compute the likelihood and chi2 from the number of events"
   ]
  },
  {
   "cell_type": "code",
   "execution_count": 5,
   "metadata": {
    "collapsed": false
   },
   "outputs": [
    {
     "name": "stdout",
     "output_type": "stream",
     "text": [
      "likelihood= 0.00360343061739\n",
      "chi2= 7.67156184038\n"
     ]
    }
   ],
   "source": [
    "#If the number of observed events, the number of expected background events,\n",
    "#its error and the number of signal events and its error are known, the likelihood\n",
    "#for the signal (assuming a truncated gaussian distribution for the background and signal uncertainties)\n",
    "#can be computed as:\n",
    "nSignal = 10.3\n",
    "deltaSignal = 1.\n",
    "nObserved = 5\n",
    "nBG = 4.2\n",
    "deltaBG = 0.71\n",
    "print 'likelihood=',likelihood(nSignal, nObserved, nBG, deltaBG, deltaSignal)\n",
    "print 'chi2=',chi2(nSignal, nObserved, nBG, deltaBG, deltaSignal)"
   ]
  },
  {
   "cell_type": "markdown",
   "metadata": {},
   "source": [
    "## How to compute the likelihood and chi2 from a theory prediction"
   ]
  },
  {
   "cell_type": "code",
   "execution_count": 6,
   "metadata": {
    "collapsed": false
   },
   "outputs": [],
   "source": [
    "#In most cases one wants to compute the likelihood and chi2 for a given theory prediction computed by SModelS.\n",
    "#Below we generate theory predictions and compute the likelihood and chi2 values for them\n",
    "#First we import those parts of smodels that are needed for this exercise\n",
    "#(We will assume the input is a SLHA file. For LHE files, use the lheDecomposer instead)\n",
    "from smodels.theory import slhaDecomposer\n",
    "from smodels.installation import installDirectory\n",
    "from smodels.tools.physicsUnits import fb, GeV\n",
    "from smodels.theory.theoryPrediction import theoryPredictionsFor\n",
    "from smodels.experiment.databaseObj import Database"
   ]
  },
  {
   "cell_type": "code",
   "execution_count": 7,
   "metadata": {
    "collapsed": false
   },
   "outputs": [],
   "source": [
    "#Define the SLHA input file name\n",
    "filename=\"%s/inputFiles/slha/gluino_squarks.slha\" % installDirectory()"
   ]
  },
  {
   "cell_type": "code",
   "execution_count": 8,
   "metadata": {
    "collapsed": false
   },
   "outputs": [],
   "source": [
    "#Load the database, do the decomposition and compute theory predictions:\n",
    "#(Look at the theory predictions HowTo to learn how to compute theory predictions)\n",
    "databasepath = os.path.join(os.getenv(\"HOME\"),\"smodels-database/\")\n",
    "database = Database(databasepath)\n",
    "expResults = database.getExpResults()\n",
    "topList = slhaDecomposer.decompose(filename, sigcut = 0.03 * fb, doCompress=True, doInvisible=True,minmassgap = 5* GeV)\n",
    "allThPredictions = [theoryPredictionsFor(exp, topList) for exp in expResults]"
   ]
  },
  {
   "cell_type": "code",
   "execution_count": 13,
   "metadata": {
    "collapsed": false
   },
   "outputs": [
    {
     "name": "stdout",
     "output_type": "stream",
     "text": [
      "\n",
      "Experimental Result: ATLAS-CONF-2013-024 (efficiencyMap-type)\n",
      "Theory prediction xsec =  3.07E-06 [pb]\n",
      "likelihood = 0.0721315437538 , chi2 = 0.16197905433\n",
      "\n",
      "Experimental Result: ATLAS-CONF-2013-047 (efficiencyMap-type)\n",
      "Theory prediction xsec =  5.24E-04 [pb]\n",
      "likelihood = 0.0183300161927 , chi2 = 0.0144700040892\n",
      "\n",
      "Experimental Result: ATLAS-CONF-2013-054 (efficiencyMap-type)\n",
      "Theory prediction xsec =  6.52E-06 [pb]\n",
      "likelihood = 0.0925287066913 , chi2 = 0.0753098153215\n",
      "\n",
      "Experimental Result: ATLAS-CONF-2013-061 (efficiencyMap-type)\n",
      "Theory prediction xsec =  3.94E-07 [pb]\n",
      "likelihood = 0.114066361521 , chi2 = 1.01008222891\n",
      "\n",
      "Experimental Result: ATLAS-CONF-2013-089 (upperLimit-type)\n",
      "Theory prediction xsec =  6.62E-03 [pb]\n",
      "(likelihood not available)\n",
      "\n",
      "Experimental Result: ATLAS-SUSY-2013-02 (upperLimit-type)\n",
      "Theory prediction xsec =  3.92E-04 [pb]\n",
      "(likelihood not available)\n",
      "\n",
      "Experimental Result: ATLAS-SUSY-2013-02 (upperLimit-type)\n",
      "Theory prediction xsec =  9.07E-03 [pb]\n",
      "(likelihood not available)\n",
      "\n",
      "Experimental Result: ATLAS-SUSY-2013-02 (upperLimit-type)\n",
      "Theory prediction xsec =  1.77E-03 [pb]\n",
      "(likelihood not available)\n",
      "\n",
      "Experimental Result: ATLAS-SUSY-2013-02 (efficiencyMap-type)\n",
      "Theory prediction xsec =  5.53E-04 [pb]\n",
      "likelihood = 0.0254248352573 , chi2 = 0.0418571563813\n",
      "\n",
      "Experimental Result: ATLAS-SUSY-2013-04 (efficiencyMap-type)\n",
      "Theory prediction xsec =  4.16E-05 [pb]\n",
      "likelihood = 0.236733084593 , chi2 = 0.0630580532534\n",
      "\n",
      "Experimental Result: ATLAS-SUSY-2013-11 (upperLimit-type)\n",
      "Theory prediction xsec =  1.85E-02 [pb]\n",
      "(likelihood not available)\n",
      "\n",
      "Experimental Result: ATLAS-SUSY-2013-12 (upperLimit-type)\n",
      "Theory prediction xsec =  1.85E-02 [pb]\n",
      "(likelihood not available)\n",
      "\n",
      "Experimental Result: CMS-SUS-12-028 (upperLimit-type)\n",
      "Theory prediction xsec =  3.92E-04 [pb]\n",
      "(likelihood not available)\n",
      "\n",
      "Experimental Result: CMS-SUS-12-028 (upperLimit-type)\n",
      "Theory prediction xsec =  1.77E-03 [pb]\n",
      "(likelihood not available)\n",
      "\n",
      "Experimental Result: CMS-SUS-13-006 (upperLimit-type)\n",
      "Theory prediction xsec =  9.59E-02 [pb]\n",
      "(likelihood not available)\n",
      "\n",
      "Experimental Result: CMS-SUS-13-006 (upperLimit-type)\n",
      "Theory prediction xsec =  1.85E-02 [pb]\n",
      "(likelihood not available)\n",
      "\n",
      "Experimental Result: CMS-SUS-13-006 (efficiencyMap-type)\n",
      "Theory prediction xsec =  1.73E-04 [pb]\n",
      "likelihood = 0.0983223787165 , chi2 = 0.721830730941\n",
      "\n",
      "Experimental Result: CMS-SUS-13-012 (upperLimit-type)\n",
      "Theory prediction xsec =  3.92E-04 [pb]\n",
      "(likelihood not available)\n",
      "\n",
      "Experimental Result: CMS-SUS-13-012 (upperLimit-type)\n",
      "Theory prediction xsec =  1.77E-03 [pb]\n",
      "(likelihood not available)\n",
      "\n",
      "Experimental Result: CMS-SUS-13-012 (efficiencyMap-type)\n",
      "Theory prediction xsec =  1.26E-04 [pb]\n",
      "likelihood = 0.147618377681 , chi2 = 0.179109645317\n",
      "\n",
      "Experimental Result: CMS-SUS-13-019 (upperLimit-type)\n",
      "Theory prediction xsec =  3.92E-04 [pb]\n",
      "(likelihood not available)\n",
      "\n",
      "Experimental Result: CMS-SUS-13-019 (upperLimit-type)\n",
      "Theory prediction xsec =  1.77E-03 [pb]\n",
      "(likelihood not available)\n"
     ]
    }
   ],
   "source": [
    "#For each theory prediction, compute the corresponding likelihood and chi2 values\n",
    "#(This is only possible for efficiency map-type results):\n",
    "for i,thPreds in enumerate(allThPredictions):\n",
    "    if not thPreds: continue #skip results with no predictions\n",
    "    expID = expResults[i].globalInfo.id\n",
    "    dataType = expResults[i].getValuesFor('dataType')[0]    \n",
    "    for theoryPred in thPreds:\n",
    "        #Compute the likelihood and chi2:\n",
    "        theoryPred.computeStatistics()\n",
    "        print \"\\nExperimental Result: %s (%s-type)\" %(expID,dataType) #Result ID and type\n",
    "        print \"Theory prediction xsec = \",theoryPred.xsection.value #Signal xsection*efficiency*BR\n",
    "        if dataType == 'efficiencyMap':\n",
    "            print 'likelihood =',theoryPred.likelihood,', chi2 =',theoryPred.chi2\n",
    "        else:\n",
    "            print \"(likelihood not available)\"\n"
   ]
  },
  {
   "cell_type": "code",
   "execution_count": null,
   "metadata": {
    "collapsed": false
   },
   "outputs": [],
   "source": []
  }
 ],
 "metadata": {
  "kernelspec": {
   "display_name": "Python 2",
   "language": "python",
   "name": "python2"
  },
  "language_info": {
   "codemirror_mode": {
    "name": "ipython",
    "version": 2
   },
   "file_extension": ".py",
   "mimetype": "text/x-python",
   "name": "python",
   "nbconvert_exporter": "python",
   "pygments_lexer": "ipython2",
   "version": "2.7.12"
  }
 },
 "nbformat": 4,
 "nbformat_minor": 0
}
