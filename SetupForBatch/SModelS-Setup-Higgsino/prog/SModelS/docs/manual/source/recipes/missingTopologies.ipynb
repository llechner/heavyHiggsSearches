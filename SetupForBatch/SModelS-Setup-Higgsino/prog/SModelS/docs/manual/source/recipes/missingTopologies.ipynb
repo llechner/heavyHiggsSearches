{
 "cells": [
  {
   "cell_type": "markdown",
   "metadata": {},
   "source": [
    "# How To: Find missing topologies that are not covered by the database"
   ]
  },
  {
   "cell_type": "code",
   "execution_count": 1,
   "metadata": {
    "collapsed": false
   },
   "outputs": [],
   "source": [
    "# Set up the path to SModelS installation folder if running on a different folder\n",
    "import sys,os\n",
    "sys.path.append(os.path.join(os.getenv(\"HOME\"),\"smodels/\"))"
   ]
  },
  {
   "cell_type": "code",
   "execution_count": 2,
   "metadata": {
    "collapsed": false
   },
   "outputs": [],
   "source": [
    "# Import those parts of smodels that are needed for this exercise\n",
    "from smodels.tools.physicsUnits import TeV, GeV, fb\n",
    "from smodels.installation import installDirectory\n",
    "from smodels.theory import slhaDecomposer\n",
    "from smodels.theory.theoryPrediction import theoryPredictionsFor\n",
    "from smodels.experiment.databaseObj import Database\n",
    "from smodels.tools import coverage"
   ]
  },
  {
   "cell_type": "code",
   "execution_count": 3,
   "metadata": {
    "collapsed": false
   },
   "outputs": [],
   "source": [
    "#Define the SLHA input file name\n",
    "filename=\"%s/inputFiles/slha/gluino_squarks.slha\" % installDirectory()"
   ]
  },
  {
   "cell_type": "code",
   "execution_count": 4,
   "metadata": {
    "collapsed": false
   },
   "outputs": [],
   "source": [
    "#Load the database, do the decomposition and compute theory predictions:\n",
    "#(Look at the theory predictions HowTo to learn how to compute theory predictions)\n",
    "databasepath = os.path.join(os.getenv(\"HOME\"),\"smodels-database/\")\n",
    "database = Database(databasepath)\n",
    "expResults = database.getExpResults()\n",
    "topList = slhaDecomposer.decompose(filename, sigcut = 0.03 * fb, doCompress=True, doInvisible=True,minmassgap = 5* GeV)\n",
    "#(Computing theory predictions will tag the elements which have been tested)\n",
    "allThPredictions = [theoryPredictionsFor(exp, topList) for exp in expResults]"
   ]
  },
  {
   "cell_type": "code",
   "execution_count": 5,
   "metadata": {
    "collapsed": false
   },
   "outputs": [],
   "source": [
    "# Create missing Topologies object\n",
    "uncovered = coverage.Uncovered(topList)"
   ]
  },
  {
   "cell_type": "code",
   "execution_count": 6,
   "metadata": {
    "collapsed": false
   },
   "outputs": [
    {
     "name": "stdout",
     "output_type": "stream",
     "text": [
      "Total missing topology cross section (fb):  3.363E+02\n",
      "Total cross section where we are outside the mass grid (fb):  3.277E+00\n",
      "Total cross section in long cascade decays (fb):  1.096E+02\n",
      "Total cross section in decays with asymmetric branches (fb):  2.226E+02\n"
     ]
    }
   ],
   "source": [
    "#Print basic information about coverage:\n",
    "print \"Total missing topology cross section (fb): %10.3E\" %(uncovered.getMissingXsec())\n",
    "print \"Total cross section where we are outside the mass grid (fb): %10.3E\" %(uncovered.getOutOfGridXsec())\n",
    "print \"Total cross section in long cascade decays (fb): %10.3E\" %(uncovered.getLongCascadeXsec())\n",
    "print \"Total cross section in decays with asymmetric branches (fb): %10.3E\" %(uncovered.getAsymmetricXsec())        "
   ]
  },
  {
   "cell_type": "code",
   "execution_count": 7,
   "metadata": {
    "collapsed": false
   },
   "outputs": [
    {
     "name": "stdout",
     "output_type": "stream",
     "text": [
      "\n",
      "missing topology: [[],[]]\n",
      "Contributing elements:\n",
      "[[],[]] , xsection: ['8.00E+00 [TeV]:4.81E-04 [pb]']\n",
      "\n",
      "missing topology: [[],[[W]]]\n",
      "Contributing elements:\n",
      "[[],[[W+]]] , xsection: ['8.00E+00 [TeV]:2.40E-04 [pb]']\n",
      "[[],[[W-]]] , xsection: ['8.00E+00 [TeV]:4.01E-05 [pb]']\n",
      "\n",
      "missing topology: [[],[[Z]]]\n",
      "Contributing elements:\n",
      "[[],[[Z]]] , xsection: ['8.00E+00 [TeV]:3.24E-05 [pb]']\n",
      "\n",
      "missing topology: [[],[[higgs]]]\n",
      "Contributing elements:\n",
      "[[],[[higgs]]] , xsection: ['8.00E+00 [TeV]:1.68E-04 [pb]']\n",
      "\n",
      "missing topology: [[],[[jet]]]\n",
      "Contributing elements:\n",
      "[[],[[q]]] , xsection: ['8.00E+00 [TeV]:6.15E-04 [pb]']\n"
     ]
    }
   ],
   "source": [
    "# Get list of topologies which are not tested by any result:\n",
    "missingTopos = uncovered.missingTopos\n",
    "#Print information about the first few missing topologies and\n",
    "#the elements contributing to the topology: \n",
    "for top in missingTopos.topos[:5]:\n",
    "    print '\\nmissing topology:',top.topo\n",
    "    print 'Contributing elements:'\n",
    "    for el in sorted(top.contributingElements, key=lambda el: el.weight):\n",
    "        print el,', xsection:',el.weight"
   ]
  },
  {
   "cell_type": "code",
   "execution_count": 10,
   "metadata": {
    "collapsed": false
   },
   "outputs": [
    {
     "name": "stdout",
     "output_type": "stream",
     "text": [
      "\n",
      "outside the grid topology: [[[jet]],[[jet,jet]]]\n",
      "Contributing elements:\n",
      "[[[q]],[[q,q]]] mass= [[9.92E+02 [GeV], 1.29E+02 [GeV]], [8.65E+02 [GeV], 1.29E+02 [GeV]]]\n",
      "[[[q]],[[c,c]]] mass= [[9.92E+02 [GeV], 1.29E+02 [GeV]], [8.65E+02 [GeV], 1.29E+02 [GeV]]]\n",
      "[[[q]],[[q,q]]] mass= [[9.91E+02 [GeV], 1.29E+02 [GeV]], [8.65E+02 [GeV], 1.29E+02 [GeV]]]\n",
      "[[[q]],[[c,c]]] mass= [[9.91E+02 [GeV], 1.29E+02 [GeV]], [8.65E+02 [GeV], 1.29E+02 [GeV]]]\n",
      "\n",
      "outside the grid topology: [[[b],[W]],[[b],[W]]]\n",
      "Contributing elements:\n",
      "[[[b],[W+]],[[b],[W-]]] mass= [[8.78E+02 [GeV], 2.69E+02 [GeV], 1.29E+02 [GeV]], [8.78E+02 [GeV], 2.69E+02 [GeV], 1.29E+02 [GeV]]]\n",
      "\n",
      "outside the grid topology: [[[t],[W]],[[t],[W]]]\n",
      "Contributing elements:\n",
      "[[[t+],[W-]],[[t-],[W+]]] mass= [[9.59E+02 [GeV], 2.69E+02 [GeV], 1.29E+02 [GeV]], [9.59E+02 [GeV], 2.69E+02 [GeV], 1.29E+02 [GeV]]]\n"
     ]
    }
   ],
   "source": [
    "# Get list of topologies which are outside the upper limit and efficiency map grids:\n",
    "outsideGrid = uncovered.outsideGrid\n",
    "#Print information about the first few missing topologies and\n",
    "#the elements contributing to the topology: \n",
    "for top in outsideGrid.topos[:5]:\n",
    "    print '\\noutside the grid topology:',top.topo\n",
    "    print 'Contributing elements:'\n",
    "    for el in sorted(top.contributingElements, key=lambda el: el.weight):\n",
    "        print el,'mass=',el.getMasses()"
   ]
  }
 ],
 "metadata": {
  "kernelspec": {
   "display_name": "Python 2",
   "language": "python",
   "name": "python2"
  },
  "language_info": {
   "codemirror_mode": {
    "name": "ipython",
    "version": 2
   },
   "file_extension": ".py",
   "mimetype": "text/x-python",
   "name": "python",
   "nbconvert_exporter": "python",
   "pygments_lexer": "ipython2",
   "version": "2.7.12"
  }
 },
 "nbformat": 4,
 "nbformat_minor": 0
}
