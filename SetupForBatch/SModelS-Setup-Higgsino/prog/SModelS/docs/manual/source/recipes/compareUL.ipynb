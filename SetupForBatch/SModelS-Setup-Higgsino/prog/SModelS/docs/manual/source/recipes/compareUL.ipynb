{
 "cells": [
  {
   "cell_type": "markdown",
   "metadata": {},
   "source": [
    "# How To: Compare theory predictions with experimental limits"
   ]
  },
  {
   "cell_type": "code",
   "execution_count": 1,
   "metadata": {
    "collapsed": false
   },
   "outputs": [],
   "source": [
    "#Set up the path to SModelS installation folder if running on a different folder\n",
    "import sys,os\n",
    "sys.path.append(os.path.join(os.getenv(\"HOME\"),\"smodels/\"))"
   ]
  },
  {
   "cell_type": "code",
   "execution_count": 2,
   "metadata": {
    "collapsed": false
   },
   "outputs": [],
   "source": [
    "#Import those parts of smodels that are needed for this exercise\n",
    "#(We will assume the input is a SLHA file. For LHE files, use the lheDecomposer instead)\n",
    "from smodels.theory import slhaDecomposer\n",
    "from smodels.installation import installDirectory\n",
    "from smodels.tools.physicsUnits import fb, GeV\n",
    "from smodels.theory.theoryPrediction import theoryPredictionsFor\n",
    "from smodels.experiment.databaseObj import Database"
   ]
  },
  {
   "cell_type": "code",
   "execution_count": 3,
   "metadata": {
    "collapsed": false
   },
   "outputs": [],
   "source": [
    "#Define the SLHA input file name\n",
    "filename=\"%s/inputFiles/slha/gluino_squarks.slha\" % installDirectory()"
   ]
  },
  {
   "cell_type": "code",
   "execution_count": 4,
   "metadata": {
    "collapsed": false
   },
   "outputs": [],
   "source": [
    "#Load the database, do the decomposition and compute theory predictions:\n",
    "#(Look at the theory predictions HowTo to learn how to compute theory predictions)\n",
    "databasepath = os.path.join(os.getenv(\"HOME\"),\"smodels-database/\")\n",
    "database = Database(databasepath)\n",
    "expResults = database.getExpResults()\n",
    "topList = slhaDecomposer.decompose(filename, sigcut = 0.03 * fb, doCompress=True, doInvisible=True,minmassgap = 5* GeV)\n",
    "allThPredictions = [theoryPredictionsFor(exp, topList) for exp in expResults]"
   ]
  },
  {
   "cell_type": "code",
   "execution_count": 5,
   "metadata": {
    "collapsed": false
   },
   "outputs": [
    {
     "name": "stdout",
     "output_type": "stream",
     "text": [
      "\n",
      "Experimental Result: ATLAS-CONF-2013-024 (efficiencyMap-type)\n",
      "Theory prediction xsec =  3.07E-06 [pb]\n",
      "Upper limit =  4.90E-01 [fb]\n",
      "Expected Upper limit =  5.55E-01 [fb]\n",
      "\n",
      "Experimental Result: ATLAS-CONF-2013-047 (efficiencyMap-type)\n",
      "Theory prediction xsec =  5.24E-04 [pb]\n",
      "Upper limit =  2.52E+00 [fb]\n",
      "Expected Upper limit =  2.10E+00 [fb]\n",
      "\n",
      "Experimental Result: ATLAS-CONF-2013-054 (efficiencyMap-type)\n",
      "Theory prediction xsec =  6.52E-06 [pb]\n",
      "Upper limit =  5.00E-01 [fb]\n",
      "Expected Upper limit =  4.63E-01 [fb]\n",
      "\n",
      "Experimental Result: ATLAS-CONF-2013-061 (efficiencyMap-type)\n",
      "Theory prediction xsec =  3.94E-07 [pb]\n",
      "Upper limit =  3.30E-01 [fb]\n",
      "Expected Upper limit =  2.06E-01 [fb]\n",
      "\n",
      "Experimental Result: ATLAS-CONF-2013-089 (upperLimit-type)\n",
      "Theory prediction xsec =  6.62E-03 [pb]\n",
      "Upper limit =  4.01E+01 [pb]\n",
      "Expected Upper limit =  None\n",
      "\n",
      "Experimental Result: ATLAS-SUSY-2013-02 (upperLimit-type)\n",
      "Theory prediction xsec =  3.92E-04 [pb]\n",
      "Upper limit =  1.08E-02 [pb]\n",
      "Expected Upper limit =  None\n",
      "\n",
      "Experimental Result: ATLAS-SUSY-2013-02 (upperLimit-type)\n",
      "Theory prediction xsec =  1.77E-03 [pb]\n",
      "Upper limit =  6.10E-03 [pb]\n",
      "Expected Upper limit =  None\n",
      "\n",
      "Experimental Result: ATLAS-SUSY-2013-02 (upperLimit-type)\n",
      "Theory prediction xsec =  9.07E-03 [pb]\n",
      "Upper limit =  3.23E-02 [pb]\n",
      "Expected Upper limit =  None\n",
      "\n",
      "Experimental Result: ATLAS-SUSY-2013-02 (efficiencyMap-type)\n",
      "Theory prediction xsec =  5.53E-04 [pb]\n",
      "Upper limit =  1.82E+00 [fb]\n",
      "Expected Upper limit =  1.51E+00 [fb]\n",
      "\n",
      "Experimental Result: ATLAS-SUSY-2013-04 (efficiencyMap-type)\n",
      "Theory prediction xsec =  4.16E-05 [pb]\n",
      "Upper limit =  2.75E-01 [fb]\n",
      "Expected Upper limit =  1.49E-01 [fb]\n",
      "\n",
      "Experimental Result: ATLAS-SUSY-2013-11 (upperLimit-type)\n",
      "Theory prediction xsec =  1.85E-02 [pb]\n",
      "Upper limit =  9.22E-01 [pb]\n",
      "Expected Upper limit =  None\n",
      "\n",
      "Experimental Result: ATLAS-SUSY-2013-12 (upperLimit-type)\n",
      "Theory prediction xsec =  1.85E-02 [pb]\n",
      "Upper limit =  3.30E-01 [pb]\n",
      "Expected Upper limit =  None\n",
      "\n",
      "Experimental Result: CMS-SUS-12-028 (upperLimit-type)\n",
      "Theory prediction xsec =  3.92E-04 [pb]\n",
      "Upper limit =  3.16E-02 [pb]\n",
      "Expected Upper limit =  1.97E-02 [pb]\n",
      "\n",
      "Experimental Result: CMS-SUS-12-028 (upperLimit-type)\n",
      "Theory prediction xsec =  1.77E-03 [pb]\n",
      "Upper limit =  1.64E-02 [pb]\n",
      "Expected Upper limit =  9.67E-03 [pb]\n",
      "\n",
      "Experimental Result: CMS-SUS-13-006 (upperLimit-type)\n",
      "Theory prediction xsec =  1.85E-02 [pb]\n",
      "Upper limit =  4.64E-01 [pb]\n",
      "Expected Upper limit =  None\n",
      "\n",
      "Experimental Result: CMS-SUS-13-006 (efficiencyMap-type)\n",
      "Theory prediction xsec =  1.73E-04 [pb]\n",
      "Upper limit =  3.89E-01 [fb]\n",
      "Expected Upper limit =  3.36E-01 [fb]\n",
      "\n",
      "Experimental Result: CMS-SUS-13-012 (upperLimit-type)\n",
      "Theory prediction xsec =  1.77E-03 [pb]\n",
      "Upper limit =  1.08E-02 [pb]\n",
      "Expected Upper limit =  6.10E-03 [pb]\n",
      "\n",
      "Experimental Result: CMS-SUS-13-012 (upperLimit-type)\n",
      "Theory prediction xsec =  3.92E-04 [pb]\n",
      "Upper limit =  1.11E-02 [pb]\n",
      "Expected Upper limit =  8.01E-03 [pb]\n",
      "\n",
      "Experimental Result: CMS-SUS-13-012 (efficiencyMap-type)\n",
      "Theory prediction xsec =  1.26E-04 [pb]\n",
      "Upper limit =  2.73E-01 [fb]\n",
      "Expected Upper limit =  1.53E-01 [fb]\n",
      "\n",
      "Experimental Result: CMS-SUS-13-019 (upperLimit-type)\n",
      "Theory prediction xsec =  1.77E-03 [pb]\n",
      "Upper limit =  3.76E-03 [pb]\n",
      "Expected Upper limit =  None\n",
      "\n",
      "Experimental Result: CMS-SUS-13-019 (upperLimit-type)\n",
      "Theory prediction xsec =  3.92E-04 [pb]\n",
      "Upper limit =  9.69E-03 [pb]\n",
      "Expected Upper limit =  None\n"
     ]
    }
   ],
   "source": [
    "#Print the value of each theory prediction for each experimental\n",
    "#result and the corresponding upper limit (see the obtain experimental upper limits HowTo to learn how\n",
    "#to compute the upper limits).\n",
    "#Also print the expected upper limit, if available\n",
    "for thPreds in allThPredictions:\n",
    "    if not thPreds: continue #skip results with no predictions\n",
    "    for theoryPred in thPreds:\n",
    "        expID = theoryPred.expResult.globalInfo.id\n",
    "        dataType = theoryPred.dataset.dataInfo.dataType\n",
    "        print \"\\nExperimental Result: %s (%s-type)\" %(expID,dataType) #Result ID and type\n",
    "        print \"Theory prediction xsec = \",theoryPred.xsection.value #Signal xsection*efficiency*BR\n",
    "        print \"Upper limit = \",theoryPred.expResult.getUpperLimitFor(mass = theoryPred.mass, \n",
    "                                                              txname=theoryPred.txnames[0], \n",
    "                                                              dataID = theoryPred.dataset.dataInfo.dataId)\n",
    "        print \"Expected Upper limit = \",theoryPred.expResult.getUpperLimitFor(mass = theoryPred.mass, \n",
    "                                                              txname=theoryPred.txnames[0], \n",
    "                                                              dataID = theoryPred.dataset.dataInfo.dataId,\n",
    "                                                               expected= True)        "
   ]
  },
  {
   "cell_type": "code",
   "execution_count": null,
   "metadata": {
    "collapsed": true
   },
   "outputs": [],
   "source": []
  }
 ],
 "metadata": {
  "kernelspec": {
   "display_name": "Python 2",
   "language": "python",
   "name": "python2"
  },
  "language_info": {
   "codemirror_mode": {
    "name": "ipython",
    "version": 2
   },
   "file_extension": ".py",
   "mimetype": "text/x-python",
   "name": "python",
   "nbconvert_exporter": "python",
   "pygments_lexer": "ipython2",
   "version": "2.7.12"
  }
 },
 "nbformat": 4,
 "nbformat_minor": 0
}
