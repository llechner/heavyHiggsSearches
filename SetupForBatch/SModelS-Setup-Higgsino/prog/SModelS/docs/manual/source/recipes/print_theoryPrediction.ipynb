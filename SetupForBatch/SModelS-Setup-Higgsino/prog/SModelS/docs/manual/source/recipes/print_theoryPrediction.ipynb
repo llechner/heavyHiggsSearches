{
 "cells": [
  {
   "cell_type": "markdown",
   "metadata": {},
   "source": [
    "# How To: Print out the theory predictions"
   ]
  },
  {
   "cell_type": "code",
   "execution_count": 1,
   "metadata": {
    "collapsed": false
   },
   "outputs": [],
   "source": [
    "#Set up the path to SModelS installation folder if running on a different folder\n",
    "import sys,os\n",
    "sys.path.append(os.path.join(os.getenv(\"HOME\"),\"smodels/\"))"
   ]
  },
  {
   "cell_type": "code",
   "execution_count": 2,
   "metadata": {
    "collapsed": false
   },
   "outputs": [],
   "source": [
    "#Import those parts of smodels that are needed for this exercise\n",
    "#(We will assume the input is a SLHA file. For LHE files, use the lheDecomposer instead)\n",
    "from smodels.theory import slhaDecomposer\n",
    "from smodels.installation import installDirectory\n",
    "from smodels.tools.physicsUnits import fb, GeV\n",
    "from smodels.theory.theoryPrediction import theoryPredictionsFor\n",
    "from smodels.experiment.databaseObj import Database"
   ]
  },
  {
   "cell_type": "code",
   "execution_count": 3,
   "metadata": {
    "collapsed": false
   },
   "outputs": [],
   "source": [
    "## Define the database path\n",
    "databasepath = os.path.join(os.getenv(\"HOME\"),\"smodels-database/\")\n",
    "#and load the database:\n",
    "database = Database(databasepath)\n",
    "#Get list of desired experimental results (by default all results):\n",
    "expResults = database.getExpResults()"
   ]
  },
  {
   "cell_type": "code",
   "execution_count": 4,
   "metadata": {
    "collapsed": false
   },
   "outputs": [],
   "source": [
    "#Define the SLHA input file name\n",
    "filename=\"%s/inputFiles/slha/gluino_squarks.slha\" % installDirectory()"
   ]
  },
  {
   "cell_type": "code",
   "execution_count": 5,
   "metadata": {
    "collapsed": false
   },
   "outputs": [],
   "source": [
    "#Perform the decomposition:\n",
    "topList = slhaDecomposer.decompose(filename, sigcut = 0.03 * fb, doCompress=True, doInvisible=True,minmassgap = 5* GeV)"
   ]
  },
  {
   "cell_type": "code",
   "execution_count": 6,
   "metadata": {
    "collapsed": false
   },
   "outputs": [],
   "source": [
    "#Compute the theory prediction for each selected experimental result using the output from the decomposition:\n",
    "allThPredictions = [theoryPredictionsFor(exp, topList) for exp in expResults]"
   ]
  },
  {
   "cell_type": "code",
   "execution_count": 7,
   "metadata": {
    "collapsed": false
   },
   "outputs": [
    {
     "name": "stdout",
     "output_type": "stream",
     "text": [
      "\n",
      "Experimental Result:  ATLAS-CONF-2013-024 (efficiencyMap-type)\n",
      "Theory prediction xsec =  3.07E-06 [pb]\n",
      "Conditions violation (if any) =  None\n",
      "Dataset: SR1: MET > 200\n",
      "Txnames =  ['TGQqtt']\n",
      "\n",
      "Experimental Result:  ATLAS-CONF-2013-047 (efficiencyMap-type)\n",
      "Theory prediction xsec =  5.24E-04 [pb]\n",
      "Conditions violation (if any) =  None\n",
      "Dataset: A Medium\n",
      "Txnames =  ['T1', 'T2']\n",
      "\n",
      "Experimental Result:  ATLAS-CONF-2013-054 (efficiencyMap-type)\n",
      "Theory prediction xsec =  6.52E-06 [pb]\n",
      "Conditions violation (if any) =  None\n",
      "Dataset: 7j80 flavor 0 b-jets\n",
      "Txnames =  ['T1', 'T2']\n",
      "\n",
      "Experimental Result:  ATLAS-CONF-2013-061 (efficiencyMap-type)\n",
      "Theory prediction xsec =  3.94E-07 [pb]\n",
      "Conditions violation (if any) =  None\n",
      "Dataset: SR-0l-4j-B\n",
      "Txnames =  ['TGQbbq']\n",
      "\n",
      "Experimental Result:  ATLAS-CONF-2013-089 (upperLimit-type)\n",
      "Theory prediction xsec =  6.62E-03 [pb]\n",
      "Conditions violation (if any) =  None\n",
      "Dataset: None\n",
      "Txnames =  ['T6WW']\n",
      "\n",
      "Experimental Result:  ATLAS-SUSY-2013-02 (upperLimit-type)\n",
      "Theory prediction xsec =  1.77E-03 [pb]\n",
      "Conditions violation (if any) =  None\n",
      "Dataset: None\n",
      "Txnames =  ['T2']\n",
      "\n",
      "Experimental Result:  ATLAS-SUSY-2013-02 (upperLimit-type)\n",
      "Theory prediction xsec =  3.92E-04 [pb]\n",
      "Conditions violation (if any) =  None\n",
      "Dataset: None\n",
      "Txnames =  ['T1']\n",
      "\n",
      "Experimental Result:  ATLAS-SUSY-2013-02 (upperLimit-type)\n",
      "Theory prediction xsec =  9.07E-03 [pb]\n",
      "Conditions violation (if any) =  None\n",
      "Dataset: None\n",
      "Txnames =  ['T5WW']\n",
      "\n",
      "Experimental Result:  ATLAS-SUSY-2013-02 (efficiencyMap-type)\n",
      "Theory prediction xsec =  5.53E-04 [pb]\n",
      "Conditions violation (if any) =  None\n",
      "Dataset: SR2jt\n",
      "Txnames =  ['T1', 'T2']\n",
      "\n",
      "Experimental Result:  ATLAS-SUSY-2013-04 (efficiencyMap-type)\n",
      "Theory prediction xsec =  4.16E-05 [pb]\n",
      "Conditions violation (if any) =  None\n",
      "Dataset: GtGrid_SR_8ij80_0bjet\n",
      "Txnames =  ['T5WW']\n",
      "\n",
      "Experimental Result:  ATLAS-SUSY-2013-11 (upperLimit-type)\n",
      "Theory prediction xsec =  1.85E-02 [pb]\n",
      "Conditions violation (if any) =  None\n",
      "Dataset: None\n",
      "Txnames =  ['TChiWZ']\n",
      "\n",
      "Experimental Result:  ATLAS-SUSY-2013-12 (upperLimit-type)\n",
      "Theory prediction xsec =  1.85E-02 [pb]\n",
      "Conditions violation (if any) =  None\n",
      "Dataset: None\n",
      "Txnames =  ['TChiWZ']\n",
      "\n",
      "Experimental Result:  CMS-SUS-12-028 (upperLimit-type)\n",
      "Theory prediction xsec =  3.92E-04 [pb]\n",
      "Conditions violation (if any) =  None\n",
      "Dataset: None\n",
      "Txnames =  ['T1']\n",
      "\n",
      "Experimental Result:  CMS-SUS-12-028 (upperLimit-type)\n",
      "Theory prediction xsec =  1.77E-03 [pb]\n",
      "Conditions violation (if any) =  None\n",
      "Dataset: None\n",
      "Txnames =  ['T2']\n",
      "\n",
      "Experimental Result:  CMS-SUS-13-006 (upperLimit-type)\n",
      "Theory prediction xsec =  1.85E-02 [pb]\n",
      "Conditions violation (if any) =  None\n",
      "Dataset: None\n",
      "Txnames =  ['TChiWZ']\n",
      "\n",
      "Experimental Result:  CMS-SUS-13-006 (efficiencyMap-type)\n",
      "Theory prediction xsec =  1.73E-04 [pb]\n",
      "Conditions violation (if any) =  None\n",
      "Dataset: MET_125\n",
      "Txnames =  ['TChiWH']\n",
      "\n",
      "Experimental Result:  CMS-SUS-13-012 (upperLimit-type)\n",
      "Theory prediction xsec =  3.92E-04 [pb]\n",
      "Conditions violation (if any) =  None\n",
      "Dataset: None\n",
      "Txnames =  ['T1']\n",
      "\n",
      "Experimental Result:  CMS-SUS-13-012 (upperLimit-type)\n",
      "Theory prediction xsec =  1.77E-03 [pb]\n",
      "Conditions violation (if any) =  None\n",
      "Dataset: None\n",
      "Txnames =  ['T2']\n",
      "\n",
      "Experimental Result:  CMS-SUS-13-012 (efficiencyMap-type)\n",
      "Theory prediction xsec =  1.26E-04 [pb]\n",
      "Conditions violation (if any) =  None\n",
      "Dataset: 6NJet8_1250HT1500_450MHTinf\n",
      "Txnames =  ['T1', 'T2', 'T5WW']\n",
      "\n",
      "Experimental Result:  CMS-SUS-13-019 (upperLimit-type)\n",
      "Theory prediction xsec =  3.92E-04 [pb]\n",
      "Conditions violation (if any) =  None\n",
      "Dataset: None\n",
      "Txnames =  ['T1']\n",
      "\n",
      "Experimental Result:  CMS-SUS-13-019 (upperLimit-type)\n",
      "Theory prediction xsec =  1.77E-03 [pb]\n",
      "Conditions violation (if any) =  None\n",
      "Dataset: None\n",
      "Txnames =  ['T2']\n"
     ]
    }
   ],
   "source": [
    "#Print information about each theory prediction for each result:\n",
    "for thPreds in allThPredictions:\n",
    "    if not thPreds: continue #skip results with no predictions\n",
    "    for theoryPred in thPreds:\n",
    "        print \"\\nExperimental Result: \",theoryPred.expResult.globalInfo.id,\"(%s-type)\" %theoryPred.dataset.dataInfo.dataType #Result ID\n",
    "        print \"Theory prediction xsec = \",theoryPred.xsection.value #Signal xsection*efficiency*BR\n",
    "        print \"Conditions violation (if any) = \",theoryPred.conditions #Condition values (for UL-type results)\n",
    "        print \"Dataset:\",theoryPred.dataset.dataInfo.dataId  #Corresponding signal region (for EM-type results)\n",
    "        print \"Txnames = \",[str(tx) for tx in theoryPred.txnames] #List of simplified models (txnames) contributing to the signal xsec        "
   ]
  },
  {
   "cell_type": "code",
   "execution_count": null,
   "metadata": {
    "collapsed": false
   },
   "outputs": [],
   "source": []
  }
 ],
 "metadata": {
  "kernelspec": {
   "display_name": "Python 2",
   "language": "python",
   "name": "python2"
  },
  "language_info": {
   "codemirror_mode": {
    "name": "ipython",
    "version": 2
   },
   "file_extension": ".py",
   "mimetype": "text/x-python",
   "name": "python",
   "nbconvert_exporter": "python",
   "pygments_lexer": "ipython2",
   "version": "2.7.12"
  }
 },
 "nbformat": 4,
 "nbformat_minor": 0
}
