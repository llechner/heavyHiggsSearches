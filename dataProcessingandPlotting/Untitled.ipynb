{
 "cells": [
  {
   "cell_type": "code",
   "execution_count": 1,
   "metadata": {
    "collapsed": false
   },
   "outputs": [
    {
     "name": "stdout",
     "output_type": "stream",
     "text": [
      "206\n",
      "100000\n",
      "100000\n",
      "28597\n",
      "196\n",
      "0\n"
     ]
    }
   ],
   "source": [
    "import OutputHandler as output\n",
    "import Outputparameter as para\n",
    "import numpy as np\n",
    "import OutputPlots\n",
    "\n",
    "output.create_excluded_datafile()\n",
    "# output.create_included_datafile()\n",
    "output.split_excluded_datafile()\n",
    "\n",
    "print(len(output.read_mass_list(para.path_total_data + para.file_total_true)))\n",
    "print(len(output.read_parameter(para.path_total_data + para.file_LSP_false)))\n",
    "print(len(output.read_parameter(para.path_total_data + para.file_HB_false)))\n",
    "print(len(output.read_parameter(para.path_total_data + para.file_HS_false)))\n",
    "print(len(output.read_parameter(para.path_total_data + para.file_SD_false)))\n",
    "print(len(output.read_parameter(para.path_total_data + para.file_SH_false)))\n"
   ]
  }
 ],
 "metadata": {
  "kernelspec": {
   "display_name": "Python 3",
   "language": "python",
   "name": "python3"
  },
  "language_info": {
   "codemirror_mode": {
    "name": "ipython",
    "version": 3
   },
   "file_extension": ".py",
   "mimetype": "text/x-python",
   "name": "python",
   "nbconvert_exporter": "python",
   "pygments_lexer": "ipython3",
   "version": "3.5.2"
  }
 },
 "nbformat": 4,
 "nbformat_minor": 2
}
