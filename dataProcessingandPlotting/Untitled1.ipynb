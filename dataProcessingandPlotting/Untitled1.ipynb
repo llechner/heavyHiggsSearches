{
 "cells": [
  {
   "cell_type": "code",
   "execution_count": 1,
   "metadata": {
    "collapsed": false
   },
   "outputs": [],
   "source": [
    "from OutputHandler import remove_double_entries\n",
    "import Outputparameter as para\n",
    "\n",
    "# remove_double_entries(para.path_total_data + para.file_total_true)\n",
    "# remove_double_entries(para.path_total_data + para.file_LSP_false)\n",
    "# remove_double_entries(para.path_total_data + para.file_HB_false)\n",
    "# remove_double_entries(para.path_total_data + para.file_HS_false)\n",
    "# remove_double_entries(para.path_total_data + para.file_SD_false)\n",
    "# remove_double_entries(para.path_total_data + para.file_SH_false)\n"
   ]
  },
  {
   "cell_type": "code",
   "execution_count": null,
   "metadata": {
    "collapsed": false
   },
   "outputs": [
    {
     "name": "stdout",
     "output_type": "stream",
     "text": [
      "/media/lukas/2d17b1d4-972f-4e20-a7c8-e35e19ccb906/plots/massplots/mass_sb1_sb2_p90\n",
      "/media/lukas/2d17b1d4-972f-4e20-a7c8-e35e19ccb906/plots/massplots/mass_sb1_st1_p90\n",
      "/media/lukas/2d17b1d4-972f-4e20-a7c8-e35e19ccb906/plots/massplots/mass_sb1_st2_p90\n",
      "/media/lukas/2d17b1d4-972f-4e20-a7c8-e35e19ccb906/plots/massplots/mass_sb1_gino_p90\n",
      "/media/lukas/2d17b1d4-972f-4e20-a7c8-e35e19ccb906/plots/massplots/mass_sb1_chi10_p90\n",
      "/media/lukas/2d17b1d4-972f-4e20-a7c8-e35e19ccb906/plots/massplots/mass_sb1_chi20_p90\n",
      "/media/lukas/2d17b1d4-972f-4e20-a7c8-e35e19ccb906/plots/massplots/mass_sb1_chi30_p90\n",
      "/media/lukas/2d17b1d4-972f-4e20-a7c8-e35e19ccb906/plots/massplots/mass_sb1_chi40_p90\n",
      "/media/lukas/2d17b1d4-972f-4e20-a7c8-e35e19ccb906/plots/massplots/mass_sb1_chi1p_p90\n",
      "/media/lukas/2d17b1d4-972f-4e20-a7c8-e35e19ccb906/plots/massplots/mass_sb1_chi2p_p90\n",
      "/media/lukas/2d17b1d4-972f-4e20-a7c8-e35e19ccb906/plots/massplots/mass_sb2_sb1_p90\n",
      "/media/lukas/2d17b1d4-972f-4e20-a7c8-e35e19ccb906/plots/massplots/mass_sb2_st1_p90\n",
      "/media/lukas/2d17b1d4-972f-4e20-a7c8-e35e19ccb906/plots/massplots/mass_sb2_st2_p90\n",
      "/media/lukas/2d17b1d4-972f-4e20-a7c8-e35e19ccb906/plots/massplots/mass_sb2_gino_p90\n",
      "/media/lukas/2d17b1d4-972f-4e20-a7c8-e35e19ccb906/plots/massplots/mass_sb2_chi10_p90\n",
      "/media/lukas/2d17b1d4-972f-4e20-a7c8-e35e19ccb906/plots/massplots/mass_sb2_chi20_p90\n",
      "/media/lukas/2d17b1d4-972f-4e20-a7c8-e35e19ccb906/plots/massplots/mass_sb2_chi30_p90\n",
      "/media/lukas/2d17b1d4-972f-4e20-a7c8-e35e19ccb906/plots/massplots/mass_sb2_chi40_p90\n",
      "/media/lukas/2d17b1d4-972f-4e20-a7c8-e35e19ccb906/plots/massplots/mass_sb2_chi1p_p90\n",
      "/media/lukas/2d17b1d4-972f-4e20-a7c8-e35e19ccb906/plots/massplots/mass_sb2_chi2p_p90\n",
      "/media/lukas/2d17b1d4-972f-4e20-a7c8-e35e19ccb906/plots/massplots/mass_st1_sb1_p90\n",
      "/media/lukas/2d17b1d4-972f-4e20-a7c8-e35e19ccb906/plots/massplots/mass_st1_sb2_p90\n",
      "/media/lukas/2d17b1d4-972f-4e20-a7c8-e35e19ccb906/plots/massplots/mass_st1_st2_p90\n",
      "/media/lukas/2d17b1d4-972f-4e20-a7c8-e35e19ccb906/plots/massplots/mass_st1_gino_p90\n",
      "/media/lukas/2d17b1d4-972f-4e20-a7c8-e35e19ccb906/plots/massplots/mass_st1_chi10_p90\n",
      "/media/lukas/2d17b1d4-972f-4e20-a7c8-e35e19ccb906/plots/massplots/mass_st1_chi20_p90\n",
      "/media/lukas/2d17b1d4-972f-4e20-a7c8-e35e19ccb906/plots/massplots/mass_st1_chi30_p90\n",
      "/media/lukas/2d17b1d4-972f-4e20-a7c8-e35e19ccb906/plots/massplots/mass_st1_chi40_p90\n",
      "/media/lukas/2d17b1d4-972f-4e20-a7c8-e35e19ccb906/plots/massplots/mass_st1_chi1p_p90\n",
      "/media/lukas/2d17b1d4-972f-4e20-a7c8-e35e19ccb906/plots/massplots/mass_st1_chi2p_p90\n",
      "/media/lukas/2d17b1d4-972f-4e20-a7c8-e35e19ccb906/plots/massplots/mass_st2_sb1_p90\n",
      "/media/lukas/2d17b1d4-972f-4e20-a7c8-e35e19ccb906/plots/massplots/mass_st2_sb2_p90\n",
      "/media/lukas/2d17b1d4-972f-4e20-a7c8-e35e19ccb906/plots/massplots/mass_st2_st1_p90\n",
      "/media/lukas/2d17b1d4-972f-4e20-a7c8-e35e19ccb906/plots/massplots/mass_st2_gino_p90\n",
      "/media/lukas/2d17b1d4-972f-4e20-a7c8-e35e19ccb906/plots/massplots/mass_st2_chi10_p90\n",
      "/media/lukas/2d17b1d4-972f-4e20-a7c8-e35e19ccb906/plots/massplots/mass_st2_chi20_p90\n",
      "/media/lukas/2d17b1d4-972f-4e20-a7c8-e35e19ccb906/plots/massplots/mass_st2_chi30_p90\n",
      "/media/lukas/2d17b1d4-972f-4e20-a7c8-e35e19ccb906/plots/massplots/mass_st2_chi40_p90\n",
      "/media/lukas/2d17b1d4-972f-4e20-a7c8-e35e19ccb906/plots/massplots/mass_st2_chi1p_p90\n",
      "/media/lukas/2d17b1d4-972f-4e20-a7c8-e35e19ccb906/plots/massplots/mass_st2_chi2p_p90\n",
      "/media/lukas/2d17b1d4-972f-4e20-a7c8-e35e19ccb906/plots/massplots/mass_gino_sb1_p90\n",
      "/media/lukas/2d17b1d4-972f-4e20-a7c8-e35e19ccb906/plots/massplots/mass_gino_sb2_p90\n",
      "/media/lukas/2d17b1d4-972f-4e20-a7c8-e35e19ccb906/plots/massplots/mass_gino_st1_p90\n",
      "/media/lukas/2d17b1d4-972f-4e20-a7c8-e35e19ccb906/plots/massplots/mass_gino_st2_p90\n",
      "/media/lukas/2d17b1d4-972f-4e20-a7c8-e35e19ccb906/plots/massplots/mass_gino_chi10_p90\n",
      "/media/lukas/2d17b1d4-972f-4e20-a7c8-e35e19ccb906/plots/massplots/mass_gino_chi20_p90\n",
      "/media/lukas/2d17b1d4-972f-4e20-a7c8-e35e19ccb906/plots/massplots/mass_gino_chi30_p90\n",
      "/media/lukas/2d17b1d4-972f-4e20-a7c8-e35e19ccb906/plots/massplots/mass_gino_chi40_p90\n",
      "/media/lukas/2d17b1d4-972f-4e20-a7c8-e35e19ccb906/plots/massplots/mass_gino_chi1p_p90\n",
      "/media/lukas/2d17b1d4-972f-4e20-a7c8-e35e19ccb906/plots/massplots/mass_gino_chi2p_p90\n",
      "/media/lukas/2d17b1d4-972f-4e20-a7c8-e35e19ccb906/plots/massplots/mass_chi10_sb1_p90\n",
      "/media/lukas/2d17b1d4-972f-4e20-a7c8-e35e19ccb906/plots/massplots/mass_chi10_sb2_p90\n",
      "/media/lukas/2d17b1d4-972f-4e20-a7c8-e35e19ccb906/plots/massplots/mass_chi10_st1_p90\n",
      "/media/lukas/2d17b1d4-972f-4e20-a7c8-e35e19ccb906/plots/massplots/mass_chi10_st2_p90\n",
      "/media/lukas/2d17b1d4-972f-4e20-a7c8-e35e19ccb906/plots/massplots/mass_chi10_gino_p90\n",
      "/media/lukas/2d17b1d4-972f-4e20-a7c8-e35e19ccb906/plots/massplots/mass_chi10_chi20_p90\n",
      "/media/lukas/2d17b1d4-972f-4e20-a7c8-e35e19ccb906/plots/massplots/mass_chi10_chi30_p90\n",
      "/media/lukas/2d17b1d4-972f-4e20-a7c8-e35e19ccb906/plots/massplots/mass_chi10_chi40_p90\n",
      "/media/lukas/2d17b1d4-972f-4e20-a7c8-e35e19ccb906/plots/massplots/mass_chi10_chi1p_p90\n",
      "/media/lukas/2d17b1d4-972f-4e20-a7c8-e35e19ccb906/plots/massplots/mass_chi10_chi2p_p90\n",
      "/media/lukas/2d17b1d4-972f-4e20-a7c8-e35e19ccb906/plots/massplots/mass_chi20_sb1_p90\n",
      "/media/lukas/2d17b1d4-972f-4e20-a7c8-e35e19ccb906/plots/massplots/mass_chi20_sb2_p90\n",
      "/media/lukas/2d17b1d4-972f-4e20-a7c8-e35e19ccb906/plots/massplots/mass_chi20_st1_p90\n",
      "/media/lukas/2d17b1d4-972f-4e20-a7c8-e35e19ccb906/plots/massplots/mass_chi20_st2_p90\n",
      "/media/lukas/2d17b1d4-972f-4e20-a7c8-e35e19ccb906/plots/massplots/mass_chi20_gino_p90\n",
      "/media/lukas/2d17b1d4-972f-4e20-a7c8-e35e19ccb906/plots/massplots/mass_chi20_chi10_p90\n"
     ]
    }
   ],
   "source": [
    "from OutputPlots import create_massplots\n",
    "create_massplots()"
   ]
  },
  {
   "cell_type": "code",
   "execution_count": null,
   "metadata": {
    "collapsed": false
   },
   "outputs": [],
   "source": [
    "from OutputPlots import create_parameterplots\n",
    "create_parameterplots()"
   ]
  }
 ],
 "metadata": {
  "kernelspec": {
   "display_name": "Python 3",
   "language": "python",
   "name": "python3"
  },
  "language_info": {
   "codemirror_mode": {
    "name": "ipython",
    "version": 3
   },
   "file_extension": ".py",
   "mimetype": "text/x-python",
   "name": "python",
   "nbconvert_exporter": "python",
   "pygments_lexer": "ipython3",
   "version": "3.5.2"
  }
 },
 "nbformat": 4,
 "nbformat_minor": 2
}
